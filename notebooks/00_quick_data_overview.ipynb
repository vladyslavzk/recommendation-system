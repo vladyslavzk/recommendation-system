{
 "cells": [
  {
   "cell_type": "code",
   "execution_count": 3,
   "id": "5e818c78-2b43-49d7-b7d0-a55874c62443",
   "metadata": {},
   "outputs": [],
   "source": [
    "from pyspark.sql import SparkSession\n",
    "from pyspark.sql import functions as F\n",
    "from pyspark.sql import Window"
   ]
  },
  {
   "cell_type": "code",
   "execution_count": 4,
   "id": "7f20a884-ae7f-4f3c-884e-bacd7c19a624",
   "metadata": {},
   "outputs": [],
   "source": [
    "# Initialize Spark\n",
    "spark = SparkSession.builder \\\n",
    "    .appName(\"EcommerceAnalysis\") \\\n",
    "    .config(\"spark.driver.memory\", \"8g\") \\\n",
    "    .config(\"spark.executor.memory\", \"8g\") \\\n",
    "    .config(\"spark.local.dir\", \"I:/spark_temp\") \\\n",
    "    .getOrCreate()"
   ]
  },
  {
   "cell_type": "code",
   "execution_count": 5,
   "id": "a2b14b79-5c26-4028-83c6-523eb66cf3cf",
   "metadata": {},
   "outputs": [],
   "source": [
    "# Load data\n",
    "df = spark.read.csv('../data/raw/2019-Oct.csv', header=True, inferSchema=True)"
   ]
  },
  {
   "cell_type": "code",
   "execution_count": 8,
   "id": "15ed3e9a-96b4-4fcd-b46f-ef75104e2998",
   "metadata": {},
   "outputs": [
    {
     "data": {
      "text/plain": [
       "3446"
      ]
     },
     "execution_count": 8,
     "metadata": {},
     "output_type": "execute_result"
    }
   ],
   "source": [
    "df.select('brand').distinct().count()"
   ]
  },
  {
   "cell_type": "markdown",
   "id": "b5e18889-4a5e-4e89-b0fd-bf5af7ed03c9",
   "metadata": {},
   "source": [
    "## Basic Data Overview"
   ]
  },
  {
   "cell_type": "code",
   "execution_count": 6,
   "id": "7b2afd2e-908d-4cb9-b286-e520ca9959b9",
   "metadata": {},
   "outputs": [
    {
     "name": "stdout",
     "output_type": "stream",
     "text": [
      "Number of records in 2019-oct: 42,448,764\n"
     ]
    }
   ],
   "source": [
    "print(f\"Number of records in 2019-oct: {df.count():,}\")"
   ]
  },
  {
   "cell_type": "code",
   "execution_count": 7,
   "id": "68ccc805-b378-4635-a208-5e8f441c7fea",
   "metadata": {},
   "outputs": [
    {
     "name": "stdout",
     "output_type": "stream",
     "text": [
      "root\n",
      " |-- event_time: timestamp (nullable = true)\n",
      " |-- event_type: string (nullable = true)\n",
      " |-- product_id: integer (nullable = true)\n",
      " |-- category_id: long (nullable = true)\n",
      " |-- category_code: string (nullable = true)\n",
      " |-- brand: string (nullable = true)\n",
      " |-- price: double (nullable = true)\n",
      " |-- user_id: integer (nullable = true)\n",
      " |-- user_session: string (nullable = true)\n",
      "\n"
     ]
    }
   ],
   "source": [
    "# Schema of our data:\n",
    "df.printSchema()"
   ]
  },
  {
   "cell_type": "code",
   "execution_count": 8,
   "id": "4206db14-8634-47fc-9f11-d331e5bb1332",
   "metadata": {},
   "outputs": [
    {
     "name": "stdout",
     "output_type": "stream",
     "text": [
      "+-------+----------+--------------------+--------------------+-------------------+--------+-----------------+-------------------+--------------------+\n",
      "|summary|event_type|          product_id|         category_id|      category_code|   brand|            price|            user_id|        user_session|\n",
      "+-------+----------+--------------------+--------------------+-------------------+--------+-----------------+-------------------+--------------------+\n",
      "|  count|  42448764|            42448764|            42448764|           28933155|36335756|         42448764|           42448764|            42448762|\n",
      "|   mean|      NULL|1.0549932375842676E7|2.057404237936260...|               NULL|     NaN|290.3236606848809|5.335371475081686E8|                NULL|\n",
      "| stddev|      NULL|1.1881906970608136E7|1.843926466140411...|               NULL|     NaN|358.2691553394021|1.852373817465431E7|                NULL|\n",
      "|    min|      cart|             1000978| 2053013552226107603|    accessories.bag|  a-case|              0.0|           33869381|00000042-3e3f-42f...|\n",
      "|    max|      view|            60500010| 2175419595093967522|stationery.cartrige|   zyxel|          2574.07|          566280860|fffffc65-7ce9-435...|\n",
      "+-------+----------+--------------------+--------------------+-------------------+--------+-----------------+-------------------+--------------------+\n",
      "\n"
     ]
    }
   ],
   "source": [
    "# Get basic statistics about data\n",
    "df.describe().show()"
   ]
  },
  {
   "cell_type": "code",
   "execution_count": 9,
   "id": "e39d2c3d-eed6-4707-b994-dbe2a59abc30",
   "metadata": {},
   "outputs": [
    {
     "name": "stdout",
     "output_type": "stream",
     "text": [
      "+-------------------+----------+----------+-------------------+--------------------+------------+-------+---------+--------------------+\n",
      "|         event_time|event_type|product_id|        category_id|       category_code|       brand|  price|  user_id|        user_session|\n",
      "+-------------------+----------+----------+-------------------+--------------------+------------+-------+---------+--------------------+\n",
      "|2019-10-01 02:00:50|      view|   1005105|2053013555631882655|electronics.smart...|       apple|1415.48|529755884|0b828fb6-99bd-4d2...|\n",
      "|2019-10-01 02:00:05|      view|   1480613|2053013561092866779|   computers.desktop|      pulser| 908.62|512742880|0d0d91c2-c9c2-4e8...|\n",
      "|2019-10-01 02:00:22|      view|   1480714|2053013561092866779|   computers.desktop|      pulser| 921.49|512742880|0d0d91c2-c9c2-4e8...|\n",
      "|2019-10-01 02:00:30|      view|   3701388|2053013565983425517|appliances.enviro...|    dauscher|  33.21|515342595|0e30e1c0-4d3e-4e1...|\n",
      "|2019-10-01 02:01:00|      view|   3701062|2053013565983425517|appliances.enviro...|     gorenje|  90.07|515342595|0e30e1c0-4d3e-4e1...|\n",
      "|2019-10-01 02:00:17|      view|  23100006|2053013561638126333|                NULL|        NULL| 357.79|513642368|17566c27-0a8f-450...|\n",
      "|2019-10-01 02:00:44|      view|  23100006|2053013561638126333|                NULL|        NULL| 357.79|513642368|17566c27-0a8f-450...|\n",
      "|2019-10-01 02:01:17|      view|  50500080|2127425438190928416|                NULL|      krause|  77.69|513642368|17566c27-0a8f-450...|\n",
      "|2019-10-01 02:00:58|      view|   4802639|2053013554658804075|electronics.audio...|        sony| 218.77|514808401|1877639d-46a4-44f...|\n",
      "|2019-10-01 02:00:42|      view|  26400291|2053013563651392361|                NULL|     lucente| 188.94|551331813|19ded3e3-823b-4f5...|\n",
      "|2019-10-01 02:01:14|      view|  32601078|2053013566587404305|                NULL|       okuma|  32.18|513696314|1c073854-b838-4cf...|\n",
      "|2019-10-01 02:00:33|      view|  28717908|2053013565782098913|       apparel.shoes|burgerschuhe| 102.45|513798668|2034798f-43f2-8bc...|\n",
      "|2019-10-01 02:00:50|      view|   1307135|2053013558920217191|  computers.notebook|          hp| 320.35|542378517|244570b9-ebb4-4d4...|\n",
      "|2019-10-01 02:01:06|      view|   1307004|2053013558920217191|  computers.notebook|      lenovo| 290.61|542378517|244570b9-ebb4-4d4...|\n",
      "|2019-10-01 02:00:37|      view|   1701111|2053013553031414015|computers.periphe...|        acer| 514.79|547028884|3ea7c620-a8d7-45c...|\n",
      "|2019-10-01 02:00:11|      view|   1004545|2053013555631882655|electronics.smart...|      huawei| 566.01|537918940|406c46ed-90a4-478...|\n",
      "|2019-10-01 02:01:15|      view|   1801555|2053013554415534427|electronics.video.tv|          lg| 462.25|537918940|406c46ed-90a4-478...|\n",
      "|2019-10-01 02:00:50|      view|  28717211|2053013565882762215|                NULL|     respect|  76.96|555447577|4337a670-6520-415...|\n",
      "|2019-10-01 02:01:00|      view|   4300262|2053013552385491165|                NULL|       vitek|   72.0|523239174|464a96b0-03ee-420...|\n",
      "|2019-10-01 02:01:16|      view|   1004497|2053013555631882655|electronics.smart...|       nokia| 159.33|550859983|4718c88d-1892-4a5...|\n",
      "|2019-10-01 02:01:17|      view|   1004856|2053013555631882655|electronics.smart...|     samsung| 130.76|515757896|4938043e-e50f-44a...|\n",
      "|2019-10-01 02:00:57|      view|   1005073|2053013555631882655|electronics.smart...|     samsung|1207.71|543427258|4fc3e61d-5f94-45b...|\n",
      "|2019-10-01 02:00:08|      view|  17300353|2053013553853497655|                NULL|       creed| 380.96|555447699|4fe811e9-91de-46d...|\n",
      "|2019-10-01 02:00:11|      view|   1005011|2053013555631882655|electronics.smart...|     samsung| 900.64|530282093|50a293fb-5940-41b...|\n",
      "|2019-10-01 02:00:25|      view|   3900990|2053013552326770905|appliances.enviro...|     ariston| 122.18|554748717|5459fbe4-2aa5-42b...|\n",
      "|2019-10-01 02:01:25|      view|   3900990|2053013552326770905|appliances.enviro...|     ariston| 122.18|554748717|5459fbe4-2aa5-42b...|\n",
      "|2019-10-01 02:00:01|      view|  17200506|2053013559792632471|furniture.living_...|        NULL|  543.1|519107250|566511c2-e2e3-422...|\n",
      "|2019-10-01 02:01:09|      view|  15100337|2053013557024391671|                NULL|        NULL| 257.15|519107250|566511c2-e2e3-422...|\n",
      "|2019-10-01 02:01:26|      view|  15100008|2053013557024391671|                NULL|         bts| 488.82|519107250|566511c2-e2e3-422...|\n",
      "|2019-10-01 02:00:35|      view|   3601505|2053013563810775923|appliances.kitche...|     samsung| 463.15|526631741|5ec9bd77-beef-443...|\n",
      "+-------------------+----------+----------+-------------------+--------------------+------------+-------+---------+--------------------+\n",
      "only showing top 30 rows\n",
      "\n"
     ]
    }
   ],
   "source": [
    "df.limit(100).sort('user_session').show(30)"
   ]
  },
  {
   "cell_type": "markdown",
   "id": "4363b85e-5b3a-4862-b7c3-1057bdd78251",
   "metadata": {},
   "source": [
    "As we can see, we have data that can be defined as duplicative. These are rows in which all columns are repeated except the 'event_time' column. These could be legitimate repeated views if the user refreshed the page or might be system-generated events (e.g., auto-refresh). So we have to get rig of them."
   ]
  },
  {
   "cell_type": "code",
   "execution_count": 10,
   "id": "d2b0f059-7110-4de9-b205-0227590094f9",
   "metadata": {},
   "outputs": [
    {
     "name": "stdout",
     "output_type": "stream",
     "text": [
      "Unique users: 3,022,290\n",
      "Unique products: 166,794\n",
      "Unique categories: 624\n"
     ]
    }
   ],
   "source": [
    "# Number of unique users, products and categories:\n",
    "print(f\"Unique users: {df.select('user_id').distinct().count():,}\")\n",
    "print(f\"Unique products: {df.select('product_id').distinct().count():,}\")\n",
    "print(f\"Unique categories: {df.select('category_id').distinct().count():,}\")"
   ]
  },
  {
   "cell_type": "code",
   "execution_count": 11,
   "id": "061abfb2-303b-4625-a3b0-6607a0b8e873",
   "metadata": {},
   "outputs": [],
   "source": [
    "df_small = df.limit(200)"
   ]
  },
  {
   "cell_type": "code",
   "execution_count": 12,
   "id": "5508431a-59a5-486c-bcb7-a4faaecda9c6",
   "metadata": {},
   "outputs": [],
   "source": [
    "df_cleaned = df.dropDuplicates(['event_type', 'product_id', 'category_id', 'category_code', 'brand', 'price' , 'user_id', 'user_session'])\n",
    "\n"
   ]
  },
  {
   "cell_type": "code",
   "execution_count": 13,
   "id": "3122aa66-34af-42e6-9157-33d012776f32",
   "metadata": {},
   "outputs": [
    {
     "name": "stdout",
     "output_type": "stream",
     "text": [
      "+-------------------+----------+----------+-------------------+--------------------+--------+-------+---------+--------------------+\n",
      "|         event_time|event_type|product_id|        category_id|       category_code|   brand|  price|  user_id|        user_session|\n",
      "+-------------------+----------+----------+-------------------+--------------------+--------+-------+---------+--------------------+\n",
      "|2019-10-06 16:26:10|      cart|   1801723|2053013554415534427|electronics.video.tv|     tcl| 135.65|557388939|                NULL|\n",
      "|2019-10-25 12:36:14|      cart|   1004767|2053013555631882655|electronics.smart...| samsung| 246.52|549825742|                NULL|\n",
      "|2019-10-18 12:54:45|      view|  54900011|2146660887203676486|     apparel.costume|    NULL|  64.35|515483062|00000042-3e3f-42f...|\n",
      "|2019-10-31 07:28:21|      view|   1005104|2053013555631882655|electronics.smart...|   apple| 993.27|513782162|00000056-a206-40d...|\n",
      "|2019-10-31 07:31:25|      view|   1005212|2053013555631882655|electronics.smart...| samsung| 193.39|513782162|00000056-a206-40d...|\n",
      "|2019-10-31 07:23:12|      view|   1005115|2053013555631882655|electronics.smart...|   apple| 955.84|513782162|00000056-a206-40d...|\n",
      "|2019-10-31 07:25:52|      view|   5100816|2053013553375346967|                NULL|  xiaomi|   29.6|513782162|00000056-a206-40d...|\n",
      "|2019-10-31 07:23:52|      view|   1005105|2053013555631882655|electronics.smart...|   apple|1349.46|513782162|00000056-a206-40d...|\n",
      "|2019-10-31 07:26:58|      view|   1004858|2053013555631882655|electronics.smart...| samsung| 131.53|513782162|00000056-a206-40d...|\n",
      "|2019-10-31 07:28:47|      view|   1003312|2053013555631882655|electronics.smart...|   apple| 717.64|513782162|00000056-a206-40d...|\n",
      "|2019-10-06 13:27:05|      view|   1004653|2053013555631882655|electronics.smart...| samsung|  635.8|546521725|00000083-8816-4d5...|\n",
      "|2019-10-06 13:30:18|      view|   1004249|2053013555631882655|electronics.smart...|   apple| 730.26|546521725|00000083-8816-4d5...|\n",
      "|2019-10-06 13:26:39|      view|   1004871|2053013555631882655|electronics.smart...| samsung|  286.6|546521725|00000083-8816-4d5...|\n",
      "|2019-10-06 13:25:59|      view|   1005073|2053013555631882655|electronics.smart...| samsung|1153.03|546521725|00000083-8816-4d5...|\n",
      "|2019-10-06 13:25:54|      view|   1005098|2053013555631882655|electronics.smart...| samsung| 152.58|546521725|00000083-8816-4d5...|\n",
      "|2019-10-06 13:34:30|  purchase|   1004870|2053013555631882655|electronics.smart...| samsung| 289.52|546521725|00000083-8816-4d5...|\n",
      "|2019-10-06 13:30:41|      view|   1004246|2053013555631882655|electronics.smart...|   apple| 736.03|546521725|00000083-8816-4d5...|\n",
      "|2019-10-06 13:24:45|      view|   1004768|2053013555631882655|electronics.smart...| samsung| 251.47|546521725|00000083-8816-4d5...|\n",
      "|2019-10-06 13:30:37|      view|   1005135|2053013555631882655|electronics.smart...|   apple|1747.79|546521725|00000083-8816-4d5...|\n",
      "|2019-10-06 13:33:54|      cart|   1004870|2053013555631882655|electronics.smart...| samsung| 289.52|546521725|00000083-8816-4d5...|\n",
      "|2019-10-06 13:26:53|      view|   1004751|2053013555631882655|electronics.smart...| samsung| 197.15|546521725|00000083-8816-4d5...|\n",
      "|2019-10-06 13:27:24|      view|   1005015|2053013555631882655|electronics.smart...| samsung| 600.92|546521725|00000083-8816-4d5...|\n",
      "|2019-10-06 13:32:50|      view|   1004870|2053013555631882655|electronics.smart...| samsung| 289.52|546521725|00000083-8816-4d5...|\n",
      "|2019-10-06 13:28:34|      view|   1003527|2053013555631882655|electronics.smart...|  xiaomi| 201.35|546521725|00000083-8816-4d5...|\n",
      "|2019-10-06 13:29:11|      view|   1005115|2053013555631882655|electronics.smart...|   apple| 975.56|546521725|00000083-8816-4d5...|\n",
      "|2019-10-06 13:30:25|      view|   1005105|2053013555631882655|electronics.smart...|   apple|1415.48|546521725|00000083-8816-4d5...|\n",
      "|2019-10-25 10:39:11|  purchase|   1004834|2053013555631882655|electronics.smart...| samsung|  171.9|560486342|000001fd-1f89-45e...|\n",
      "|2019-10-25 10:32:40|      view|   1004834|2053013555631882655|electronics.smart...| samsung|  171.9|560486342|000001fd-1f89-45e...|\n",
      "|2019-10-25 10:31:16|      view|   1004863|2053013555631882655|electronics.smart...| samsung|  170.6|560486342|000001fd-1f89-45e...|\n",
      "|2019-10-25 10:34:23|      cart|   1004834|2053013555631882655|electronics.smart...| samsung|  171.9|560486342|000001fd-1f89-45e...|\n",
      "|2019-10-25 10:30:42|      view|   1004856|2053013555631882655|electronics.smart...| samsung| 131.51|560486342|000001fd-1f89-45e...|\n",
      "|2019-10-03 13:28:52|      view|   2501061|2053013564003713919|appliances.kitche...|  darina| 195.42|512483064|000003eb-b63e-45d...|\n",
      "|2019-10-27 13:06:08|      view|   2701773|2053013563911439225|appliances.kitche...| indesit| 325.62|551770927|0000047e-bdcc-485...|\n",
      "|2019-10-27 13:05:04|      view|   2701673|2053013563911439225|appliances.kitche...| indesit| 292.28|551770927|0000047e-bdcc-485...|\n",
      "|2019-10-25 18:03:44|      view|   2900803|2053013554776244595|appliances.kitche...| samsung| 128.68|514257673|00000809-9101-4e4...|\n",
      "|2019-10-25 17:58:07|      view|   2900090|2053013554776244595|appliances.kitche...| samsung| 100.36|514257673|00000809-9101-4e4...|\n",
      "|2019-10-25 18:00:54|      view|   2900802|2053013554776244595|appliances.kitche...| samsung| 115.81|514257673|00000809-9101-4e4...|\n",
      "|2019-10-07 16:16:54|      view|   1004573|2053013555631882655|electronics.smart...| samsung| 720.45|557742029|00000a05-fa4e-448...|\n",
      "|2019-10-19 14:41:17|      view|   1004792|2053013555631882655|electronics.smart...|  xiaomi| 468.22|522190704|00000aaa-d774-49b...|\n",
      "|2019-10-14 15:41:26|      view|   1005105|2053013555631882655|electronics.smart...|   apple|1428.31|541860090|00000e03-279f-4a2...|\n",
      "|2019-10-14 15:41:55|      view|   1005135|2053013555631882655|electronics.smart...|   apple| 1747.7|541860090|00000e03-279f-4a2...|\n",
      "|2019-10-28 05:43:48|      view|   1005161|2053013555631882655|electronics.smart...|  xiaomi| 214.82|544174599|00000e7e-fd0d-4f9...|\n",
      "|2019-10-28 05:44:53|      view|   1004741|2053013555631882655|electronics.smart...|  xiaomi| 189.97|544174599|00000e7e-fd0d-4f9...|\n",
      "|2019-10-28 05:43:35|      view|   1005239|2053013555631882655|electronics.smart...|  xiaomi|  262.3|544174599|00000e7e-fd0d-4f9...|\n",
      "|2019-10-13 09:40:36|      view|  26300085|2053013563584283495|                NULL| lucente| 554.97|530035758|00000f11-3c2e-4a2...|\n",
      "|2019-10-13 09:39:25|      view|  26204031|2053013563693335403|                NULL| sokolov| 125.67|530035758|00000f11-3c2e-4a2...|\n",
      "|2019-10-13 09:42:31|      view|  26300620|2053013563424899933|                NULL|    NULL|  238.1|530035758|00000f11-3c2e-4a2...|\n",
      "|2019-10-13 09:38:16|      view|  26300188|2053013563584283495|                NULL| lucente| 709.67|530035758|00000f11-3c2e-4a2...|\n",
      "|2019-10-13 09:41:13|      view|  26400288|2053013563651392361|                NULL| lucente| 206.96|530035758|00000f11-3c2e-4a2...|\n",
      "|2019-10-13 09:41:33|      view|  26200140|2053013563693335403|                NULL|    NULL| 238.87|530035758|00000f11-3c2e-4a2...|\n",
      "|2019-10-25 14:09:03|      view|   1307068|2053013558920217191|  computers.notebook|  lenovo| 303.48|515194456|00000f5b-c0f0-45f...|\n",
      "|2019-10-25 14:11:07|      view|   1307329|2053013558920217191|  computers.notebook|      hp| 1145.2|515194456|00000f5b-c0f0-45f...|\n",
      "|2019-10-25 14:10:04|      view|   1306609|2053013558920217191|  computers.notebook|  lenovo| 720.71|515194456|00000f5b-c0f0-45f...|\n",
      "|2019-10-26 06:50:28|      view|  15100370|2053013557024391671|                NULL|    NULL| 257.15|517613240|0000109a-4f63-48e...|\n",
      "|2019-10-03 15:28:12|      view|   1004739|2053013555631882655|electronics.smart...|  xiaomi| 196.94|556327911|000011ef-e9fc-492...|\n",
      "|2019-10-03 15:20:04|      view|   1004739|2053013555631882655|electronics.smart...|  xiaomi| 196.98|556327911|000011ef-e9fc-492...|\n",
      "|2019-10-03 15:17:56|      view|   1004741|2053013555631882655|electronics.smart...|  xiaomi| 185.67|556327911|000011ef-e9fc-492...|\n",
      "|2019-10-14 13:25:00|      view|   1004961|2053013555631882655|electronics.smart...|    oppo| 179.26|540247397|000013ec-1d9d-4ff...|\n",
      "|2019-10-14 13:24:35|      view|   1004242|2053013555631882655|electronics.smart...|   apple|1325.05|540247397|000013ec-1d9d-4ff...|\n",
      "|2019-10-14 21:03:55|      view|   1005003|2053013555631882655|electronics.smart...|  huawei| 252.21|559841837|00001417-945d-4ab...|\n",
      "|2019-10-28 17:45:04|      view|   1004751|2053013555631882655|electronics.smart...| samsung| 193.03|549687677|000016e5-2956-4ac...|\n",
      "|2019-10-26 12:26:10|      view|   4802036|2053013554658804075|electronics.audio...|   apple| 180.13|531243113|0000172e-8e2a-479...|\n",
      "|2019-10-17 11:50:42|      view|   5100573|2053013553341792533|  electronics.clocks|   apple| 455.61|548719724|00001762-f0bb-4f2...|\n",
      "|2019-10-23 20:32:40|      view|   9100609|2053013552888807671|computers.periphe...| gamdias|  12.59|516190694|00001870-b100-47d...|\n",
      "|2019-10-16 09:33:09|      view|  26027151|2053013562837697343|                NULL|    NULL|   9.01|518723895|0000187f-5276-441...|\n",
      "|2019-10-15 15:39:24|      view|  52100004|2137704926053138958|                NULL|    nike|  86.21|547413779|000019ba-297e-409...|\n",
      "|2019-10-08 10:29:23|      view|   1701431|2053013553031414015|computers.periphe...|   smart| 107.08|557686636|00001ab8-e107-48a...|\n",
      "|2019-10-02 22:04:06|      view|   1005113|2053013555631882655|electronics.smart...|   apple|1027.05|512600925|00001e73-384e-4c3...|\n",
      "|2019-10-02 22:03:13|      view|   1005116|2053013555631882655|electronics.smart...|   apple|1052.79|512600925|00001e73-384e-4c3...|\n",
      "|2019-10-18 10:07:29|      view|   6301402|2053013554834964853|appliances.kitche...|willmark|    7.7|515859103|00001fd6-fb31-484...|\n",
      "|2019-10-04 16:54:14|      view|   5100867|2053013553341792533|  electronics.clocks| samsung| 360.34|515618310|0000219b-15fa-437...|\n",
      "|2019-10-04 16:56:18|      view|   5100863|2053013553341792533|  electronics.clocks| samsung| 354.64|515618310|0000219b-15fa-437...|\n",
      "|2019-10-04 16:53:41|      view|   5100861|2053013553341792533|  electronics.clocks| samsung| 390.68|515618310|0000219b-15fa-437...|\n",
      "|2019-10-07 21:30:59|      view|  26402786|2053013563651392361|                NULL| lucente| 151.61|542931037|000024a4-d991-402...|\n",
      "|2019-10-07 21:44:53|      view|  26400399|2053013563651392361|                NULL|    NULL| 137.97|542931037|000024a4-d991-402...|\n",
      "|2019-10-07 21:23:02|      view|  26200206|2053013563693335403|                NULL|    NULL| 174.78|542931037|000024a4-d991-402...|\n",
      "|2019-10-07 21:28:06|      view|  26400678|2053013563651392361|                NULL| lucente| 298.59|542931037|000024a4-d991-402...|\n",
      "|2019-10-07 21:50:08|      view|  26402695|2053013563651392361|                NULL|    NULL| 269.03|542931037|000024a4-d991-402...|\n",
      "|2019-10-07 21:40:19|      view|  26402906|2053013563651392361|                NULL|    NULL|1426.23|542931037|000024a4-d991-402...|\n",
      "|2019-10-07 21:46:23|      view|  26200604|2053013563693335403|                NULL|    NULL| 247.63|542931037|000024a4-d991-402...|\n",
      "|2019-10-07 13:46:48|      view|   1500440|2053013552955916539|computers.periphe...|   epson| 175.01|546857180|000024c3-e526-45d...|\n",
      "|2019-10-07 13:46:04|      view|   1500447|2053013552955916539|computers.periphe...|      hp| 131.83|546857180|000024c3-e526-45d...|\n",
      "|2019-10-21 21:10:07|      view|  55400054|2147123662791115686|                NULL|   luris|  63.45|517404605|00002831-f7e0-460...|\n",
      "|2019-10-24 19:06:04|      view|  13100505|2053013553526341921|                NULL|   trebl|  84.94|541518474|00002cc2-4980-4b5...|\n",
      "|2019-10-13 10:42:44|      view|  20900498|2053013561453576945|                NULL|   titan| 141.57|513595796|00002e45-650a-4db...|\n",
      "|2019-10-13 10:41:09|      view|  20900517|2053013561453576945|                NULL|  xiaomi|  85.46|513595796|00002e45-650a-4db...|\n",
      "|2019-10-13 10:49:48|      view|  20900173|2053013561453576945|                NULL|   titan| 221.37|513595796|00002e45-650a-4db...|\n",
      "|2019-10-13 10:45:48|      view|  20900215|2053013561453576945|                NULL|  delsey| 109.91|513595796|00002e45-650a-4db...|\n",
      "|2019-10-13 10:48:01|      view|  20900695|2053013561453576945|                NULL|    NULL|  69.49|513595796|00002e45-650a-4db...|\n",
      "|2019-10-08 14:28:14|      view|   6902373|2053013560312726199|furniture.living_...| lorelli|  73.36|515284173|00003059-267b-4cd...|\n",
      "|2019-10-27 03:06:18|      view|   1002540|2053013555631882655|electronics.smart...|   apple| 462.05|523181136|0000314a-4396-433...|\n",
      "|2019-10-27 03:06:01|      view|   1002532|2053013555631882655|electronics.smart...|   apple| 532.57|523181136|0000314a-4396-433...|\n",
      "|2019-10-09 23:40:18|      view|  34800225|2062461754293617058|                NULL|  cantra|  45.04|537956308|00003599-a772-4c8...|\n",
      "|2019-10-09 23:39:14|      view|  34800270|2062461754293617058|                NULL|  cantra| 101.67|537956308|00003599-a772-4c8...|\n",
      "|2019-10-09 23:39:27|      view|  34800104|2062461754293617058|                NULL|    NULL|  22.75|537956308|00003599-a772-4c8...|\n",
      "|2019-10-09 23:41:23|      view|  49800017|2126679654801604876|     accessories.bag|  ritmix|  12.32|537956308|00003599-a772-4c8...|\n",
      "|2019-10-09 23:40:51|      view|  34800265|2062461754293617058|                NULL|  cantra| 101.67|537956308|00003599-a772-4c8...|\n",
      "|2019-10-09 23:41:57|      view|  49800000|2126679654801604876|     accessories.bag|    NULL|  24.94|537956308|00003599-a772-4c8...|\n",
      "|2019-10-09 23:41:39|      view|  49800020|2126679654801604876|     accessories.bag|  ritmix|  15.43|537956308|00003599-a772-4c8...|\n",
      "|2019-10-09 23:40:29|      view|  34800247|2062461754293617058|                NULL|  cantra|  96.52|537956308|00003599-a772-4c8...|\n",
      "+-------------------+----------+----------+-------------------+--------------------+--------+-------+---------+--------------------+\n",
      "only showing top 100 rows\n",
      "\n"
     ]
    }
   ],
   "source": [
    "df_cleaned.sort('user_session').show(100)"
   ]
  },
  {
   "cell_type": "code",
   "execution_count": 14,
   "id": "5adc3cad-bdcd-4f9a-b27b-4f13758ce5b2",
   "metadata": {},
   "outputs": [
    {
     "data": {
      "text/plain": [
       "42448764"
      ]
     },
     "execution_count": 14,
     "metadata": {},
     "output_type": "execute_result"
    }
   ],
   "source": [
    "df.count()"
   ]
  },
  {
   "cell_type": "code",
   "execution_count": 15,
   "id": "176d9d66-64e8-4e71-895c-d6ee6ad6c1f4",
   "metadata": {},
   "outputs": [
    {
     "data": {
      "text/plain": [
       "29138897"
      ]
     },
     "execution_count": 15,
     "metadata": {},
     "output_type": "execute_result"
    }
   ],
   "source": [
    "df_cleaned.count()"
   ]
  },
  {
   "cell_type": "code",
   "execution_count": null,
   "id": "8394428c-1a64-4e23-85b9-820414346d29",
   "metadata": {},
   "outputs": [],
   "source": []
  }
 ],
 "metadata": {
  "kernelspec": {
   "display_name": "Python 3 (ipykernel)",
   "language": "python",
   "name": "python3"
  },
  "language_info": {
   "codemirror_mode": {
    "name": "ipython",
    "version": 3
   },
   "file_extension": ".py",
   "mimetype": "text/x-python",
   "name": "python",
   "nbconvert_exporter": "python",
   "pygments_lexer": "ipython3",
   "version": "3.11.8"
  }
 },
 "nbformat": 4,
 "nbformat_minor": 5
}
